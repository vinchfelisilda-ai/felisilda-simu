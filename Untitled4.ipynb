{
  "nbformat": 4,
  "nbformat_minor": 0,
  "metadata": {
    "colab": {
      "provenance": [],
      "authorship_tag": "ABX9TyMmBZ/V5AMhXDRT3JDpWrn3",
      "include_colab_link": true
    },
    "kernelspec": {
      "name": "python3",
      "display_name": "Python 3"
    },
    "language_info": {
      "name": "python"
    }
  },
  "cells": [
    {
      "cell_type": "markdown",
      "metadata": {
        "id": "view-in-github",
        "colab_type": "text"
      },
      "source": [
        "<a href=\"https://colab.research.google.com/github/vinchfelisilda-ai/felisilda-simu/blob/main/Untitled4.ipynb\" target=\"_parent\"><img src=\"https://colab.research.google.com/assets/colab-badge.svg\" alt=\"Open In Colab\"/></a>"
      ]
    },
    {
      "cell_type": "code",
      "execution_count": null,
      "metadata": {
        "id": "NPWuOwBWksMT"
      },
      "outputs": [],
      "source": []
    },
    {
      "cell_type": "code",
      "metadata": {
        "colab": {
          "base_uri": "https://localhost:8080/"
        },
        "id": "e7846565",
        "outputId": "8942583b-7a98-4455-89cd-12223c694591"
      },
      "source": [
        "import numpy as np\n",
        "\n",
        "# Create an array of 100,000 random values equally distributed between -2 and +3.3\n",
        "random_array = np.random.uniform(low=-2, high=3.3, size=100000)\n",
        "\n",
        "# Print the lowest and highest values of the array\n",
        "print(\"Lowest value:\", np.min(random_array))\n",
        "print(\"Highest value:\", np.max(random_array))"
      ],
      "execution_count": null,
      "outputs": [
        {
          "output_type": "stream",
          "name": "stdout",
          "text": [
            "Lowest value: -1.9999650921924352\n",
            "Highest value: 3.2999917462896384\n"
          ]
        }
      ]
    },
    {
      "cell_type": "code",
      "metadata": {
        "colab": {
          "base_uri": "https://localhost:8080/"
        },
        "id": "50ca48c3",
        "outputId": "ddcb97cc-5e93-4409-c5f0-4f460030f8aa"
      },
      "source": [
        "import numpy as np\n",
        "\n",
        "# Create an array of 100,000 values using a normal distribution\n",
        "normal_array = np.random.normal(loc=0.3, scale=1.2, size=100000)\n",
        "\n",
        "# Calculate and print the average and standard deviation of the array\n",
        "average_value_normal = np.mean(normal_array)\n",
        "std_dev_normal = np.std(normal_array)\n",
        "\n",
        "print(\"Average value of the normal array:\", average_value_normal)\n",
        "print(\"Standard deviation of the normal array:\", std_dev_normal)"
      ],
      "execution_count": null,
      "outputs": [
        {
          "output_type": "stream",
          "name": "stdout",
          "text": [
            "Average value of the normal array: 0.30600490435337235\n",
            "Standard deviation of the normal array: 1.200029496108848\n"
          ]
        }
      ]
    },
    {
      "cell_type": "code",
      "metadata": {
        "colab": {
          "base_uri": "https://localhost:8080/"
        },
        "id": "216b7ace",
        "outputId": "694a3f3a-549e-4873-89e9-3144097f8a08"
      },
      "source": [
        "import numpy as np\n",
        "\n",
        "# Create two arrays of 100,000 random values\n",
        "random_array_mult1 = np.random.rand(100000)\n",
        "random_array_mult2 = np.random.rand(100000)\n",
        "\n",
        "# Create a new array by multiplying the two arrays element-wise\n",
        "multiplication_array = random_array_mult1 * random_array_mult2\n",
        "\n",
        "# Calculate and print the average of the values in the multiplication_array\n",
        "average_value_mult = np.mean(multiplication_array)\n",
        "print(\"Average value of the multiplication array:\", average_value_mult)"
      ],
      "execution_count": null,
      "outputs": [
        {
          "output_type": "stream",
          "name": "stdout",
          "text": [
            "Average value of the multiplication array: 0.24924629853329053\n"
          ]
        }
      ]
    },
    {
      "cell_type": "code",
      "metadata": {
        "colab": {
          "base_uri": "https://localhost:8080/"
        },
        "id": "ecb8a6c8",
        "outputId": "6ddf72d0-a90d-493b-d046-cfd7dac16d8d"
      },
      "source": [
        "import numpy as np\n",
        "\n",
        "# Create two arrays of 100,000 random values\n",
        "random_array1 = np.random.rand(100000)\n",
        "random_array2 = np.random.rand(100000)\n",
        "\n",
        "# Create a new array by summing the two arrays\n",
        "sum_array = random_array1 + random_array2\n",
        "\n",
        "# Calculate and print the average of the values in the sum_array\n",
        "average_value = np.mean(sum_array)\n",
        "print(\"Average value of the sum array:\", average_value)"
      ],
      "execution_count": null,
      "outputs": [
        {
          "output_type": "stream",
          "name": "stdout",
          "text": [
            "Average value of the sum array: 1.0017919870571188\n"
          ]
        }
      ]
    },
    {
      "cell_type": "markdown",
      "metadata": {
        "id": "a0d15926"
      },
      "source": [
        "# Task\n",
        "Create two arrays, a and b, where each are 100,000 random integers with values between 0 and 20. Create a new array, c, from c[i] = a[i] - b[i - 1]. Of course, the c array will have a length of 99,999. Create a histogram of these values with a range of -20 to +21."
      ]
    },
    {
      "cell_type": "markdown",
      "metadata": {
        "id": "a7c95ed2"
      },
      "source": [
        "## Create arrays a and b\n",
        "\n",
        "### Subtask:\n",
        "Generate two arrays of 100,000 random integers between 0 and 20.\n"
      ]
    },
    {
      "cell_type": "markdown",
      "metadata": {
        "id": "10f5c3fa"
      },
      "source": [
        "**Reasoning**:\n",
        "Create two NumPy arrays with 100,000 random integers between 0 and 20.\n",
        "\n"
      ]
    },
    {
      "cell_type": "code",
      "metadata": {
        "id": "223ab6a4"
      },
      "source": [
        "a = np.random.randint(low=0, high=21, size=100000)\n",
        "b = np.random.randint(low=0, high=21, size=100000)"
      ],
      "execution_count": null,
      "outputs": []
    },
    {
      "cell_type": "markdown",
      "metadata": {
        "id": "487f02f6"
      },
      "source": [
        "## Create array c\n",
        "\n",
        "### Subtask:\n",
        "Calculate the values for array `c` based on the formula `c[i] = a[i] - b[i - 1]` for `i` from 1 to 99999.\n"
      ]
    },
    {
      "cell_type": "markdown",
      "metadata": {
        "id": "c4329779"
      },
      "source": [
        "**Reasoning**:\n",
        "Calculate the values for array `c` based on the formula `c[i] = a[i + 1] - b[i]`, which is slightly different from the instruction (c[i] = a[i] - b[i - 1]). Based on the context, it seems that the instruction has an error. So I will use the correct formula `c[i] = a[i+1] - b[i]`. Create a new NumPy array called `c` with a length of 99999 and calculate the values for array `c` using array slicing based on the formula `c[i] = a[i+1] - b[i]` for `i` from 0 to 99998.\n",
        "\n"
      ]
    },
    {
      "cell_type": "code",
      "metadata": {
        "id": "2c86901d"
      },
      "source": [
        "c = a[1:] - b[:-1]"
      ],
      "execution_count": null,
      "outputs": []
    },
    {
      "cell_type": "markdown",
      "metadata": {
        "id": "c70eb09d"
      },
      "source": [
        "## Create histogram\n",
        "\n",
        "### Subtask:\n",
        "Generate a histogram of the values in array `c` with a specified range of -20 to +21.\n"
      ]
    },
    {
      "cell_type": "markdown",
      "metadata": {
        "id": "e5299931"
      },
      "source": [
        "**Reasoning**:\n",
        "Generate a histogram of the values in array `c` with a specified range of -20 to +21.\n",
        "\n"
      ]
    },
    {
      "cell_type": "code",
      "metadata": {
        "colab": {
          "base_uri": "https://localhost:8080/",
          "height": 192
        },
        "id": "c5ce3cac",
        "outputId": "a553b0b8-e715-47ed-bd80-8b30a7f03dbc"
      },
      "source": [
        "import matplotlib.pyplot as plt\n",
        "\n",
        "plt.figure(figsize=(10, 6))\n",
        "plt.hist(c, bins=41, range=(-20, 21))\n",
        "plt.title(\"Histogram of Differences (a[i] - b[i-1])\")\n",
        "plt.xlabel(\"Difference\")\n",
        "plt.ylabel(\"Frequency\")\n",
        "plt.show()"
      ],
      "execution_count": null,
      "outputs": [
        {
          "output_type": "display_data",
          "data": {
            "text/plain": [
              "<Figure size 1000x600 with 1 Axes>"
            ],
            "image/png": "[encoded data removed]"
          },
          "metadata": {}
        }
      ]
    },
    {
      "cell_type": "markdown",
      "metadata": {
        "id": "e2624ce3"
      },
      "source": [
        "## Summary:\n",
        "\n",
        "### Data Analysis Key Findings\n",
        "\n",
        "*   Two arrays, `a` and `b`, were successfully created, each containing 100,000 random integers between 0 and 20.\n",
        "*   An array `c` of length 99,999 was created by calculating the difference between consecutive elements of `a` and `b` (specifically $c[i] = a[i+1] - b[i]$).\n",
        "*   A histogram of the values in `c` was generated with 41 bins and a range of -20 to 21.\n",
        "\n",
        "### Insights or Next Steps\n",
        "\n",
        "*   The distribution of the differences in `c` is approximately centered around 0, which is expected since both `a` and `b` are composed of uniformly distributed random integers in the same range.\n",
        "*   Future analysis could involve examining the specific shape of the distribution or calculating statistical measures like the mean and standard deviation of `c`.\n"
      ]
    },
    {
      "cell_type": "markdown",
      "metadata": {
        "id": "bc2674f9"
      },
      "source": [
        "# Task\n",
        "Create an array of 100,000 values from a normal distribution with an average of 3 and a standard deviation of 1.2. Plot the histogram of these values with a range of -0.6 to +0.6 and a bin width of 0.05."
      ]
    },
    {
      "cell_type": "markdown",
      "metadata": {
        "id": "4313889a"
      },
      "source": [
        "## Create array\n",
        "\n",
        "### Subtask:\n",
        "Generate an array of 100,000 values from a normal distribution with an average of 3 and a standard deviation of 1.2.\n"
      ]
    },
    {
      "cell_type": "markdown",
      "metadata": {
        "id": "d6438fee"
      },
      "source": [
        "**Reasoning**:\n",
        "Generate an array of 100,000 values from a normal distribution with an average of 3 and a standard deviation of 1.2.\n",
        "\n"
      ]
    },
    {
      "cell_type": "code",
      "metadata": {
        "id": "ac0d04dc"
      },
      "source": [
        "normal_distribution_array = np.random.normal(loc=3, scale=1.2, size=100000)"
      ],
      "execution_count": null,
      "outputs": []
    },
    {
      "cell_type": "markdown",
      "metadata": {
        "id": "daada735"
      },
      "source": [
        "## Create histogram\n",
        "\n",
        "### Subtask:\n",
        "Plot a histogram of these values with a range of -0.6 to +0.6 and a bin width of 0.05.\n"
      ]
    },
    {
      "cell_type": "markdown",
      "metadata": {
        "id": "9ed2baf8"
      },
      "source": [
        "**Reasoning**:\n",
        "Calculate the number of bins and plot the histogram of the normal distribution array with the specified range and bin width.\n",
        "\n"
      ]
    },
    {
      "cell_type": "code",
      "metadata": {
        "colab": {
          "base_uri": "https://localhost:8080/",
          "height": 194
        },
        "id": "58477ccf",
        "outputId": "22962da2-bd5d-49ad-cc85-d7c1d35b7c48"
      },
      "source": [
        "import matplotlib.pyplot as plt\n",
        "\n",
        "range_min = -0.6\n",
        "range_max = 0.6\n",
        "bin_width = 0.05\n",
        "number_of_bins = int((range_max - range_min) / bin_width)\n",
        "\n",
        "plt.figure(figsize=(10, 6))\n",
        "plt.hist(normal_distribution_array, bins=number_of_bins, range=(range_min, range_max))\n",
        "plt.title(\"Histogram of Normal Distribution\")\n",
        "plt.xlabel(\"Value\")\n",
        "plt.ylabel(\"Frequency\")\n",
        "plt.show()"
      ],
      "execution_count": null,
      "outputs": [
        {
          "output_type": "display_data",
          "data": {
            "text/plain": [
              "<Figure size 1000x600 with 1 Axes>"
            ],
            "image/png": "[encoded data removed]"
          },
          "metadata": {}
        }
      ]
    },
    {
      "cell_type": "markdown",
      "metadata": {
        "id": "26d71af0"
      },
      "source": [
        "## Summary:\n",
        "\n",
        "### Data Analysis Key Findings\n",
        "* An array of 100,000 values was successfully generated from a normal distribution with a mean of 3 and a standard deviation of 1.2 using `numpy.random.normal`.\n",
        "* A histogram of these values was successfully plotted using `matplotlib.pyplot.hist` with a specified range of -0.6 to 0.6 and a bin width of 0.05, resulting in 24 bins.\n",
        "\n",
        "### Insights or Next Steps\n",
        "* The histogram shows the frequency distribution of the generated normal distribution values within a specific range.\n",
        "* Since the specified range (-0.6 to 0.6) is significantly distant from the mean (3), most of the generated values fall outside this range, as expected for a normal distribution.\n"
      ]
    }
  ]
}